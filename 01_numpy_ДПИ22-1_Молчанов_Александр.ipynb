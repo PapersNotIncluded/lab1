{
 "cells": [
  {
   "cell_type": "markdown",
   "metadata": {},
   "source": [
    "# Numpy"
   ]
  },
  {
   "cell_type": "markdown",
   "metadata": {},
   "source": [
    "Материалы:\n",
    "* Макрушин С.В. \"Лекция 1: Библиотека Numpy\"\n",
    "* https://numpy.org/doc/stable/user/index.html\n",
    "* https://numpy.org/doc/stable/reference/index.html"
   ]
  },
  {
   "cell_type": "markdown",
   "metadata": {},
   "source": [
    "## Задачи для совместного разбора"
   ]
  },
  {
   "cell_type": "markdown",
   "metadata": {},
   "source": [
    "1. Сгенерировать двухмерный массив `arr` размерности (4, 7), состоящий из случайных действительных чисел, равномерно распределенных в диапазоне от 0 до 20. Нормализовать значения массива с помощью преобразования вида  $𝑎𝑥+𝑏$  так, что после нормализации максимальный элемент масcива будет равен 1.0, минимальный 0.0"
   ]
  },
  {
   "cell_type": "code",
   "execution_count": 4,
   "metadata": {},
   "outputs": [],
   "source": [
    "import numpy as np"
   ]
  },
  {
   "cell_type": "code",
   "execution_count": 6,
   "metadata": {},
   "outputs": [
    {
     "data": {
      "text/plain": [
       "array([[ 4, 10, 12, 18,  3,  0, 12],\n",
       "       [ 0,  8,  6,  4,  2,  1, 11],\n",
       "       [ 8, 17,  1, 10, 17,  6,  8],\n",
       "       [ 7,  1,  9, 11,  6, 16, 11]])"
      ]
     },
     "execution_count": 6,
     "metadata": {},
     "output_type": "execute_result"
    }
   ],
   "source": [
    "np.random.randint(0, 20, size = (4, 7))"
   ]
  },
  {
   "cell_type": "markdown",
   "metadata": {},
   "source": [
    "2. Создать матрицу 8 на 10 из случайных целых (используя модуль `numpy.random`) чисел из диапозона от 0 до 10 и найти в ней строку (ее индекс и вывести саму строку), в которой сумма значений минимальна."
   ]
  },
  {
   "cell_type": "code",
   "execution_count": 7,
   "metadata": {},
   "outputs": [
    {
     "data": {
      "text/plain": [
       "array([[3, 7, 9, 1, 9, 6, 9, 3, 2, 9],\n",
       "       [7, 8, 9, 7, 8, 3, 1, 5, 3, 9],\n",
       "       [1, 4, 2, 3, 9, 4, 1, 5, 4, 1],\n",
       "       [1, 4, 7, 9, 4, 7, 6, 8, 7, 8],\n",
       "       [0, 9, 4, 7, 8, 4, 5, 2, 4, 6],\n",
       "       [6, 1, 2, 9, 6, 8, 1, 9, 0, 2],\n",
       "       [5, 2, 4, 5, 9, 2, 1, 7, 5, 1],\n",
       "       [9, 2, 8, 5, 1, 4, 7, 9, 6, 2]])"
      ]
     },
     "execution_count": 7,
     "metadata": {},
     "output_type": "execute_result"
    }
   ],
   "source": [
    "np.random.randint(0, 10, size = (8, 10))"
   ]
  },
  {
   "cell_type": "markdown",
   "metadata": {},
   "source": [
    "3. Найти евклидово расстояние между двумя одномерными векторами одинаковой размерности."
   ]
  },
  {
   "cell_type": "code",
   "execution_count": 10,
   "metadata": {},
   "outputs": [],
   "source": [
    "import matplotlib.pyplot as pl\n",
    "from mpl_toolkits.mplot3d import Axes3D"
   ]
  },
  {
   "cell_type": "code",
   "execution_count": null,
   "metadata": {},
   "outputs": [],
   "source": []
  },
  {
   "cell_type": "markdown",
   "metadata": {},
   "source": [
    "4. Решить матричное уравнение `A*X*B=-C` - найти матрицу `X`. Где `A = [[-1, 2, 4], [-3, 1, 2], [-3, 0, 1]]`, `B=[[3, -1], [2, 1]]`, `C=[[7, 21], [11, 8], [8, 4]]`."
   ]
  },
  {
   "cell_type": "markdown",
   "metadata": {},
   "source": [
    "## Лабораторная работа №1"
   ]
  },
  {
   "cell_type": "markdown",
   "metadata": {},
   "source": [
    "Замечание: при решении данных задач не подразумевается использования циклов или генераторов Python, если в задании не сказано обратного. Решение должно опираться на использования функционала библиотеки `numpy`."
   ]
  },
  {
   "cell_type": "markdown",
   "metadata": {},
   "source": [
    "1. Файл `minutes_n_ingredients.csv` содержит информацию об идентификаторе рецепта, времени его выполнения в минутах и количестве необходимых ингредиентов. Считайте данные из этого файла в виде массива `numpy` типа `int32`, используя `np.loadtxt`. Выведите на экран первые 5 строк массива."
   ]
  },
  {
   "cell_type": "markdown",
   "metadata": {},
   "source": [
    "2. Вычислите среднее значение, минимум, максимум и медиану по каждому из столбцов, кроме первого."
   ]
  },
  {
   "cell_type": "markdown",
   "metadata": {},
   "source": [
    "3. Ограничьте сверху значения продолжительности выполнения рецепта значением квантиля $q_{0.75}$. "
   ]
  },
  {
   "cell_type": "markdown",
   "metadata": {},
   "source": [
    "4. Посчитайте, для скольких рецептов указана продолжительность, равная нулю. Замените для таких строк значение в данном столбце на 1."
   ]
  },
  {
   "cell_type": "markdown",
   "metadata": {},
   "source": [
    "5. Посчитайте, сколько уникальных рецептов находится в датасете."
   ]
  },
  {
   "cell_type": "markdown",
   "metadata": {},
   "source": [
    "6. Сколько и каких различных значений кол-ва ингредиентов присутвует в рецептах из датасета?"
   ]
  },
  {
   "cell_type": "markdown",
   "metadata": {},
   "source": [
    "7. Создайте версию массива, содержащую информацию только о рецептах, состоящих не более чем из 5 ингредиентов."
   ]
  },
  {
   "cell_type": "markdown",
   "metadata": {},
   "source": [
    "8. Для каждого рецепта посчитайте, сколько в среднем ингредиентов приходится на одну минуту рецепта. Найдите максимальное значение этой величины для всего датасета"
   ]
  },
  {
   "cell_type": "markdown",
   "metadata": {},
   "source": [
    "9. Вычислите среднее количество ингредиентов для топ-100 рецептов с наибольшей продолжительностью"
   ]
  },
  {
   "cell_type": "markdown",
   "metadata": {},
   "source": [
    "10. Выберите случайным образом и выведите информацию о 10 различных рецептах"
   ]
  },
  {
   "cell_type": "markdown",
   "metadata": {},
   "source": [
    "11. Выведите процент рецептов, кол-во ингредиентов в которых меньше среднего."
   ]
  },
  {
   "cell_type": "markdown",
   "metadata": {},
   "source": [
    "12. Назовем \"простым\" такой рецепт, длительность выполнения которого не больше 20 минут и кол-во ингредиентов в котором не больше 5. Создайте версию датасета с дополнительным столбцом, значениями которого являются 1, если рецепт простой, и 0 в противном случае."
   ]
  },
  {
   "cell_type": "markdown",
   "metadata": {},
   "source": [
    "13. Выведите процент \"простых\" рецептов в датасете"
   ]
  },
  {
   "cell_type": "markdown",
   "metadata": {},
   "source": [
    "14. Разделим рецепты на группы по следующему правилу. Назовем рецепты короткими, если их продолжительность составляет менее 10 минут; стандартными, если их продолжительность составляет более 10, но менее 20 минут; и длинными, если их продолжительность составляет не менее 20 минут. Создайте трехмерный массив, где нулевая ось отвечает за номер группы (короткий, стандартный или длинный рецепт), первая ось - за сам рецепт и вторая ось - за характеристики рецепта. Выберите максимальное количество рецептов из каждой группы таким образом, чтобы было возможно сформировать трехмерный массив. Выведите форму полученного массива."
   ]
  },
  {
   "cell_type": "code",
   "execution_count": 2,
   "metadata": {},
   "outputs": [
    {
     "name": "stdout",
     "output_type": "stream",
     "text": [
      "[[127244     60     16]\n",
      " [ 23891     25      7]\n",
      " [ 94746     10      6]\n",
      " [ 67660      5      6]\n",
      " [157911     60     14]]\n"
     ]
    }
   ],
   "source": [
    "#1 \n",
    "import numpy as np\n",
    "[[[k]]]\n",
    "\n",
    "arr = np.loadtxt('data/minutes_n_ingredients.csv', dtype=np.int32, delimiter=',', skiprows=1)\n",
    "print(arr[0:5])"
   ]
  },
  {
   "cell_type": "code",
   "execution_count": 281,
   "metadata": {},
   "outputs": [
    {
     "name": "stdout",
     "output_type": "stream",
     "text": [
      "\n",
      "                                  I           II\n",
      "Среднее значение cтолбца   | 21601.00169 | 9.05528 |\n",
      "Минимальное значение       | 0           | 1       |\n",
      "Максимальное значение      | 2147483647  | 39      |\n",
      "Медиана столбца            | 40          | 9       |\n",
      "\n"
     ]
    }
   ],
   "source": [
    "#2\n",
    "print(f'''\n",
    "                                  I           II\n",
    "Среднее значение cтолбца   | {float(np.mean(arr[:, 1:2], axis=0))} | {float(np.mean(arr[:, -1], axis=0))} |\n",
    "Минимальное значение       | {int(arr[:, 1:2].min(axis=0))}           | {int(arr[:, -1].min(axis=0))}       |\n",
    "Максимальное значение      | {int(arr[:, 1:2].max(axis=0))}  | {int(arr[:, -1].max(axis=0))}      |\n",
    "Медиана столбца            | {int(np.median(arr[:, 1:2], axis=0))}          | {int(np.median(arr[:, -1], axis=0))}       |\n",
    "''')"
   ]
  },
  {
   "cell_type": "code",
   "execution_count": 393,
   "metadata": {},
   "outputs": [
    {
     "name": "stdout",
     "output_type": "stream",
     "text": [
      "[[60]\n",
      " [25]\n",
      " [10]\n",
      " ...\n",
      " [65]\n",
      " [ 5]\n",
      " [65]]\n"
     ]
    }
   ],
   "source": [
    "#3\n",
    "q = int(np.quantile(arr[:, 1:2], 0.75, axis=0))\n",
    "\n",
    "new_arr = arr[:,1:2]\n",
    "new_arr[new_arr > q] = q\n",
    "print(arr[:, 1:2])"
   ]
  },
  {
   "cell_type": "code",
   "execution_count": 394,
   "metadata": {},
   "outputs": [
    {
     "name": "stdout",
     "output_type": "stream",
     "text": [
      "479\n",
      "0\n"
     ]
    }
   ],
   "source": [
    "#4\n",
    "print(int(np.sum(arr[:, 1:2] == 0)))\n",
    "new_arr[new_arr == 0] = 1\n",
    "print(int(np.sum(arr[:, 1:2] == 0)))"
   ]
  },
  {
   "cell_type": "code",
   "execution_count": 395,
   "metadata": {},
   "outputs": [
    {
     "name": "stdout",
     "output_type": "stream",
     "text": [
      "100000\n"
     ]
    }
   ],
   "source": [
    "#5\n",
    "print(len(np.unique(arr[:, 0:1])))"
   ]
  },
  {
   "cell_type": "code",
   "execution_count": 396,
   "metadata": {},
   "outputs": [
    {
     "name": "stdout",
     "output_type": "stream",
     "text": [
      "[[    1    13]\n",
      " [    2   926]\n",
      " [    3  2895]\n",
      " [    4  5515]\n",
      " [    5  7913]\n",
      " [    6  9376]\n",
      " [    7 10628]\n",
      " [    8 10951]\n",
      " [    9 10585]\n",
      " [   10  9591]\n",
      " [   11  8297]\n",
      " [   12  6605]\n",
      " [   13  4997]\n",
      " [   14  3663]\n",
      " [   15  2595]\n",
      " [   16  1767]\n",
      " [   17  1246]\n",
      " [   18   790]\n",
      " [   19   573]\n",
      " [   20   376]\n",
      " [   21   217]\n",
      " [   22   161]\n",
      " [   23   105]\n",
      " [   24    69]\n",
      " [   25    50]\n",
      " [   26    28]\n",
      " [   27    16]\n",
      " [   28    16]\n",
      " [   29    12]\n",
      " [   30    12]\n",
      " [   31     3]\n",
      " [   32     1]\n",
      " [   33     2]\n",
      " [   34     1]\n",
      " [   35     3]\n",
      " [   37     1]\n",
      " [   39     1]]\n"
     ]
    }
   ],
   "source": [
    "#6\n",
    "unique, counts = np.unique(arr[:,-1], return_counts= True)\n",
    "print(np.asarray((unique, counts)).T)"
   ]
  },
  {
   "cell_type": "code",
   "execution_count": 397,
   "metadata": {},
   "outputs": [
    {
     "name": "stdout",
     "output_type": "stream",
     "text": [
      "[[446597     15      5]\n",
      " [204134      5      3]\n",
      " [ 25623      6      4]\n",
      " ...\n",
      " [ 52088     60      5]\n",
      " [128811     15      4]\n",
      " [370915      5      4]] 17262\n"
     ]
    }
   ],
   "source": [
    "#7\n",
    "less_minutes = arr.copy()\n",
    "less_minutes = less_minutes[less_minutes[:, -1] <= 5]\n",
    "print(less_minutes, len(less_minutes))"
   ]
  },
  {
   "cell_type": "code",
   "execution_count": 398,
   "metadata": {},
   "outputs": [
    {
     "name": "stdout",
     "output_type": "stream",
     "text": [
      "65.0\n"
     ]
    }
   ],
   "source": [
    "#8\n",
    "print((less_minutes[:, 1] / less_minutes[:, 2]).max())"
   ]
  },
  {
   "cell_type": "code",
   "execution_count": 399,
   "metadata": {},
   "outputs": [
    {
     "name": "stdout",
     "output_type": "stream",
     "text": [
      "9.9\n"
     ]
    }
   ],
   "source": [
    "#9\n",
    "newmass = arr.copy();\n",
    "newmass = newmass[np.argsort(newmass[:, 1])]\n",
    "print(np.mean(newmass[-101:-1, 2]))"
   ]
  },
  {
   "cell_type": "code",
   "execution_count": 400,
   "metadata": {},
   "outputs": [
    {
     "name": "stdout",
     "output_type": "stream",
     "text": [
      "[191186     45      9]\n",
      "[154473     65      7]\n",
      "[10050    65     7]\n",
      "[275886     55      9]\n",
      "[393750     45     14]\n",
      "[319550     65     11]\n",
      "[140361     40     15]\n",
      "[285492     40      6]\n",
      "[267297     65      9]\n",
      "[133279     65     11]\n"
     ]
    }
   ],
   "source": [
    "#10\n",
    "import random\n",
    "for i in range(10):\n",
    "    print(arr[random.randint(0, len(arr[:, -1]))])"
   ]
  },
  {
   "cell_type": "code",
   "execution_count": 417,
   "metadata": {},
   "outputs": [
    {
     "data": {
      "text/plain": [
       "58.802"
      ]
     },
     "execution_count": 417,
     "metadata": {},
     "output_type": "execute_result"
    }
   ],
   "source": [
    "#11\n",
    "len(arr[arr[:, 2] < np.mean(arr[:, 2])]) / len(arr[:,0]) * 100"
   ]
  },
  {
   "cell_type": "code",
   "execution_count": 134,
   "metadata": {},
   "outputs": [
    {
     "name": "stdout",
     "output_type": "stream",
     "text": [
      "[[127244     60     16      0]\n",
      " [ 23891     25      7      0]\n",
      " [ 94746     10      6      0]\n",
      " ...\n",
      " [498432     65     15      0]\n",
      " [370915      5      4      1]\n",
      " [ 81993    140     14      0]]\n"
     ]
    }
   ],
   "source": [
    "#12\n",
    "new_data = arr.copy()\n",
    "easy_receips = new_data[new_data[:, 1] <= 20]\n",
    "easy_receips = easy_receips[easy_receips[:, 2] <= 5]\n",
    "mask = np.in1d(new_data[:, 0], easy_receips[:, 0])\n",
    "mask = np.where(mask, 1,0)\n",
    "mask = np.reshape(mask, (mask.shape[0], 1))\n",
    "new_data = np.append(new_data, mask, axis=1)\n",
    "print(new_data)"
   ]
  },
  {
   "cell_type": "code",
   "execution_count": 142,
   "metadata": {},
   "outputs": [
    {
     "name": "stdout",
     "output_type": "stream",
     "text": [
      "9.552\n"
     ]
    }
   ],
   "source": [
    "#13\n",
    "print(len(new_data[new_data[:, -1] == 1])/len(new_data[:, -1])*100)"
   ]
  },
  {
   "cell_type": "code",
   "execution_count": 154,
   "metadata": {},
   "outputs": [
    {
     "name": "stdout",
     "output_type": "stream",
     "text": [
      "[[[ 94746     10      6]\n",
      "  [ 67660      5      6]\n",
      "  [366174      7      9]\n",
      "  ...\n",
      "  [  7983      0      6]\n",
      "  [184171      5      2]\n",
      "  [ 89181      5      7]]\n",
      "\n",
      " [[ 33941     18      9]\n",
      "  [446597     15      5]\n",
      "  [ 81006     12      7]\n",
      "  ...\n",
      "  [ 44120     17      5]\n",
      "  [ 60756     15      5]\n",
      "  [128811     15      4]]\n",
      "\n",
      " [[127244     60     16]\n",
      "  [ 23891     25      7]\n",
      "  [157911     60     14]\n",
      "  ...\n",
      "  [186515    220     11]\n",
      "  [372540     50      6]\n",
      "  [172926    120     13]]]\n"
     ]
    }
   ],
   "source": [
    "new_data2 = arr.copy()\n",
    "easy = new_data2[new_data2[:, 1] <= 10]\n",
    "medium = new_data2[(new_data2[:, 1] > 10) & (new_data2[:, 1] < 20)]\n",
    "hard = new_data2[(new_data2[:, 1] >= 20)]\n",
    "min_shape = min(easy.shape[0], medium.shape[0], hard.shape[0])\n",
    "three_dim = np.stack((easy[:min_shape], medium[:min_shape], hard[:min_shape]))\n",
    "print(three_dim)"
   ]
  }
 ],
 "metadata": {
  "kernelspec": {
   "display_name": "Python 3 (ipykernel)",
   "language": "python",
   "name": "python3"
  },
  "language_info": {
   "codemirror_mode": {
    "name": "ipython",
    "version": 3
   },
   "file_extension": ".py",
   "mimetype": "text/x-python",
   "name": "python",
   "nbconvert_exporter": "python",
   "pygments_lexer": "ipython3",
   "version": "3.9.13"
  }
 },
 "nbformat": 4,
 "nbformat_minor": 4
}
